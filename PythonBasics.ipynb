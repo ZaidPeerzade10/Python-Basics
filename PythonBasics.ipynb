{
  "nbformat": 4,
  "nbformat_minor": 0,
  "metadata": {
    "colab": {
      "provenance": []
    },
    "kernelspec": {
      "name": "python3",
      "display_name": "Python 3"
    },
    "language_info": {
      "name": "python"
    }
  },
  "cells": [
    {
      "cell_type": "markdown",
      "source": [
        "# Python Basics"
      ],
      "metadata": {
        "id": "PSdimL2CXY14"
      }
    },
    {
      "cell_type": "markdown",
      "source": [
        "#Theoratical Questions"
      ],
      "metadata": {
        "id": "5BylahtMStfi"
      }
    },
    {
      "cell_type": "markdown",
      "source": [],
      "metadata": {
        "id": "mpKFCcB2SzH1"
      }
    },
    {
      "cell_type": "markdown",
      "source": [
        "1. What is Python, and why is it popular?\n",
        "   - Python is a high level,interpreted programming language that is know for simplicity and readability which helps us communicate with machines. Python is popular because it is used for many applications, is simple to learn, is open source, object-oriented, efficient, has lots of libraries, is cost-efficient, supports many platforms, large community,integration capabilities,versatility, and is readable code.\n",
        "\n",
        "2. What is an interpreter in Python?\n",
        "   - Interpreter in Python is a program that reads and executes the code line by line rather than compiling the entire script, thats what makes python to allow easier debugging and interactive execution. The interpreter reads the code, analyzes it, checks the syntax, and then convert into bytecode and finally executes the code. This helps in emmidiate execution, platform independance, and easy debugging.\n",
        "\n",
        "3. What are pre-defined keywords in Python?\n",
        "   - Pre-defined keywords are unique words in Python, also known as reserved identifiers, which have special meaning to it.They perform specific tasks in Python programming and are a part of its syntax and structure. Such as \"if\", \"import\", \"for\", etc.\n",
        "\n",
        "4. Can keywords be used as variable names\n",
        "   - keywords cannot be used for variable cause they are reserved for python Syntax structure.\n",
        "\n",
        "5. What is mutability in Python?\n",
        "   Mutability in Python is the ability to change the value or state of an object after it has been created. For example, a list's values can be changed after it is created since it is mutable, but tuples' values cannot be changed after it is created since it is immutable.\n",
        "\n",
        "6. Why are lists mutable, but tuples are immutable?\n",
        "   - lists are mutable since they can be modified after it is created, and tuples Tuples are immutable because they cannot be modified once they are created. Thus, tuples are more memory-efficient than lists.\n",
        "\n",
        "7. What is the difference between “==” and “is” operators in Python?\n",
        "   - The \"==\" and \"is\" operators are both used for comparison, but they both do different tasks. \"==\" checks if two values are the same, whereas \"is\" checks if both point to the same object in the memory.\n",
        "\n",
        "8. What are logical operators in Python?\n",
        "   - logical operators are used for combining multiple conditions together to get an simple single boolean answere. there are three logical operators And, Or, Not.\n",
        "\n",
        "9. What is type casting in Python?\n",
        "   - Typecasting is a method to change a datatype to one another such as changing an integer into a string with str().\n",
        "\n",
        "10. What is the difference between implicit and explicit type casting?\n",
        "    - There two types of type casting implicit and explicit, in implicit python automatically converts a datatype to another for better performance such If a float value and integer value are added, the answer is implicitly defined as a float, and explicit typecasting occurs when the developers perform a typecast manually.\n",
        "\n",
        "11. What is the purpose of conditional statements in Python?\n",
        "    - condition statements in python is used to execute a code based on a perticular condition. it creates a flow of program so that we can change the behavior of the program differently how we want. Its main perpose is to create a flow of the program by evaluating conditions and executing specific codes based on the results.\n",
        "\n",
        "12. How does the elif statement work?\n",
        "    - \"elif\" means \"else if\", elif statement are used to check for multiple conditions. such that if the first condition is false it checks the next elif statement to check if it give true, when we give the first statement with \"if\" then after that we can give more multi statements with \"elif\", example :\n",
        "              if a < 0:\n",
        "                print(\"less than 0\")\n",
        "              elif a > 0:\n",
        "                print(\"grater than 0\")\n",
        "              else:\n",
        "                print(\"its 0 itself\")\n",
        "\n",
        "13. What is the difference between for and while loops?\n",
        "    - \"while\" loops are used to repeatedly execute a block of code while the condition is true, so its mainly used when there are situations where the number of iterations is not predetermined and depends on some dynamic condition, whereas \"for\" loops are used to iterated over a sequence of items, its designed for iterating over sequence of items.\n",
        "\n",
        "14. Describe a scenario where a while loop is more suitable than a for loop.\n",
        "    -  for example if we have to ask a integer value between 1-20, but we dont know how many times the user give a differnt value so we can keep asking until the value betwwen 1-20 is provided. Or if we only want the code to execute if the value in age variable asked is larger than 18.\n",
        "\n"
      ],
      "metadata": {
        "id": "-xG2mHB-Xf84"
      }
    },
    {
      "cell_type": "markdown",
      "source": [
        "#Practical Questions"
      ],
      "metadata": {
        "id": "gnVUxRNjSbQg"
      }
    },
    {
      "cell_type": "code",
      "source": [
        "#1. Write a Python program to print \"Hello, World!\n",
        "\n",
        "print(\"Hello, World!\")"
      ],
      "metadata": {
        "colab": {
          "base_uri": "https://localhost:8080/"
        },
        "id": "cSGNOyIpuYJ2",
        "outputId": "2ac57bb5-9b93-4ff2-8038-1d67e8ace077"
      },
      "execution_count": 9,
      "outputs": [
        {
          "output_type": "stream",
          "name": "stdout",
          "text": [
            "Hello, World!\n"
          ]
        }
      ]
    },
    {
      "cell_type": "code",
      "source": [
        "#2. Write a Python program that displays your name and age.\n",
        "\n",
        "name = input(\"Enter your name: \")\n",
        "age = input(\"Enter your age: \")\n",
        "print(\"Name: \",name)\n",
        "print(\"Age: \",age)"
      ],
      "metadata": {
        "colab": {
          "base_uri": "https://localhost:8080/"
        },
        "id": "TlT6oc68vIdN",
        "outputId": "5dc5ddbd-807a-4754-f926-8c558c9c8d26"
      },
      "execution_count": 10,
      "outputs": [
        {
          "output_type": "stream",
          "name": "stdout",
          "text": [
            "Enter your name: zaid\n",
            "Enter your age: 20\n",
            "Name:  zaid\n",
            "Age:  20\n"
          ]
        }
      ]
    },
    {
      "cell_type": "code",
      "source": [
        "#3. Write code to print all the pre-defined keywords in Python using the keyword library.\n",
        "\n",
        "import keyword\n",
        "print(keyword.kwlist)"
      ],
      "metadata": {
        "colab": {
          "base_uri": "https://localhost:8080/"
        },
        "id": "O0BeTD2xv3Xd",
        "outputId": "f6cc578c-7363-41d2-85be-f979e6233358"
      },
      "execution_count": 11,
      "outputs": [
        {
          "output_type": "stream",
          "name": "stdout",
          "text": [
            "['False', 'None', 'True', 'and', 'as', 'assert', 'async', 'await', 'break', 'class', 'continue', 'def', 'del', 'elif', 'else', 'except', 'finally', 'for', 'from', 'global', 'if', 'import', 'in', 'is', 'lambda', 'nonlocal', 'not', 'or', 'pass', 'raise', 'return', 'try', 'while', 'with', 'yield']\n"
          ]
        }
      ]
    },
    {
      "cell_type": "code",
      "source": [
        "#4. Write a program that checks if a given word is a Python keyword.\n",
        "\n",
        "import keyword\n",
        "\n",
        "word = input(\"Enter a word: \")\n",
        "if word in keyword.kwlist:\n",
        "  print(\"The word is a python keyword\")\n",
        "else:\n",
        "  print(\"The word is not a python keyword\")\n"
      ],
      "metadata": {
        "colab": {
          "base_uri": "https://localhost:8080/"
        },
        "id": "F_k_nBmJwVZz",
        "outputId": "2a3ba3ea-f44b-4a9b-fd80-79154553f6e4"
      },
      "execution_count": 12,
      "outputs": [
        {
          "output_type": "stream",
          "name": "stdout",
          "text": [
            "Enter a word: if\n",
            "The word is a python keyword\n"
          ]
        }
      ]
    },
    {
      "cell_type": "code",
      "source": [
        "#5. Create a list and tuple in Python, and demonstrate how attempting to change an element works differently for each.\n",
        "\n",
        "list1 = [1,2,3,6,5]\n",
        "tpl1 = (1,2,3,6,5)"
      ],
      "metadata": {
        "id": "Ms5czor5yG2K"
      },
      "execution_count": 13,
      "outputs": []
    },
    {
      "cell_type": "code",
      "source": [
        "#attempt for list to change an element\n",
        "# Replacing 6 to 4\n",
        "list1[3] = 4\n",
        "print(list1)"
      ],
      "metadata": {
        "colab": {
          "base_uri": "https://localhost:8080/"
        },
        "id": "WOB7DAmJygp8",
        "outputId": "e01f8f6b-d682-4d15-b7f3-2eaf896fb6e1"
      },
      "execution_count": 14,
      "outputs": [
        {
          "output_type": "stream",
          "name": "stdout",
          "text": [
            "[1, 2, 3, 4, 5]\n"
          ]
        }
      ]
    },
    {
      "cell_type": "code",
      "source": [
        "#attempt for tuple to change an element\n",
        "# Replacing 6 to 4\n",
        "tpl1[3] = 4\n",
        "print(tpl1)\n",
        "\"\"\"it will throw an error since tuple is immutable\"\"\""
      ],
      "metadata": {
        "colab": {
          "base_uri": "https://localhost:8080/",
          "height": 219
        },
        "id": "iTMxLDKezFAr",
        "outputId": "c3c7c1f4-5cff-4dd3-a8bc-f2f8938f6b7a"
      },
      "execution_count": 15,
      "outputs": [
        {
          "output_type": "error",
          "ename": "TypeError",
          "evalue": "'tuple' object does not support item assignment",
          "traceback": [
            "\u001b[0;31m---------------------------------------------------------------------------\u001b[0m",
            "\u001b[0;31mTypeError\u001b[0m                                 Traceback (most recent call last)",
            "\u001b[0;32m<ipython-input-15-ee0297db3a77>\u001b[0m in \u001b[0;36m<cell line: 0>\u001b[0;34m()\u001b[0m\n\u001b[1;32m      1\u001b[0m \u001b[0;31m#attempt for tuple to change an element\u001b[0m\u001b[0;34m\u001b[0m\u001b[0;34m\u001b[0m\u001b[0m\n\u001b[1;32m      2\u001b[0m \u001b[0;31m# Replacing 6 to 4\u001b[0m\u001b[0;34m\u001b[0m\u001b[0;34m\u001b[0m\u001b[0m\n\u001b[0;32m----> 3\u001b[0;31m \u001b[0mtpl1\u001b[0m\u001b[0;34m[\u001b[0m\u001b[0;36m3\u001b[0m\u001b[0;34m]\u001b[0m \u001b[0;34m=\u001b[0m \u001b[0;36m4\u001b[0m\u001b[0;34m\u001b[0m\u001b[0;34m\u001b[0m\u001b[0m\n\u001b[0m\u001b[1;32m      4\u001b[0m \u001b[0mprint\u001b[0m\u001b[0;34m(\u001b[0m\u001b[0mtpl1\u001b[0m\u001b[0;34m)\u001b[0m\u001b[0;34m\u001b[0m\u001b[0;34m\u001b[0m\u001b[0m\n\u001b[1;32m      5\u001b[0m \u001b[0;34m\"\"\"it will throw an error since tuple is immutable\"\"\"\u001b[0m\u001b[0;34m\u001b[0m\u001b[0;34m\u001b[0m\u001b[0m\n",
            "\u001b[0;31mTypeError\u001b[0m: 'tuple' object does not support item assignment"
          ]
        }
      ]
    },
    {
      "cell_type": "code",
      "source": [
        "from re import A\n",
        "#6.  Write a function to demonstrate the behavior of mutable and immutable arguments.\n",
        "\n",
        "def demonbehav(x, y):\n",
        "  x.append(6) #the list will change since it is mutable\n",
        "  y += 1 # since integer is immutable it will not change\n",
        "a = [1,2,3,4,5]\n",
        "b = 10\n",
        "demonbehav(a,b)\n",
        "print(a)\n",
        "print(b)"
      ],
      "metadata": {
        "colab": {
          "base_uri": "https://localhost:8080/"
        },
        "id": "KYiP6C2a0drz",
        "outputId": "72f0cf46-58da-448d-dfce-3754a0432dff"
      },
      "execution_count": 16,
      "outputs": [
        {
          "output_type": "stream",
          "name": "stdout",
          "text": [
            "[1, 2, 3, 4, 5, 6]\n",
            "10\n"
          ]
        }
      ]
    },
    {
      "cell_type": "code",
      "source": [
        "#7.Write a program that performs basic arithmetic operations on two user-input numbers.\n",
        "\n",
        "a = input(\"Enter a number: \")\n",
        "a = int(a)\n",
        "b = input(\"Enter a number: \")\n",
        "b = int(b)\n",
        "\n",
        "print(\"addition: \",a+b)\n",
        "print(\"Subtraction: \",a-b)\n",
        "print(\"Multiplication: \",a*b)\n",
        "print(\"Division: \",a/b)"
      ],
      "metadata": {
        "colab": {
          "base_uri": "https://localhost:8080/"
        },
        "id": "MzPra9L92tA9",
        "outputId": "34dc958f-e14f-4cdd-a628-5b174731492e"
      },
      "execution_count": 17,
      "outputs": [
        {
          "output_type": "stream",
          "name": "stdout",
          "text": [
            "Enter a number: 10\n",
            "Enter a number: 20\n",
            "addition:  30\n",
            "Subtraction:  -10\n",
            "Multiplication:  200\n",
            "Division:  0.5\n"
          ]
        }
      ]
    },
    {
      "cell_type": "code",
      "source": [
        "#8.Write a program to demonstrate the use of logical operators.\n",
        "\n",
        "\n",
        "a = True\n",
        "b = False\n",
        "\n",
        "print(\"a and b:\", a and b)  # False\n",
        "print(\"a or b:\", a or b)    # True\n",
        "print(\"not a:\", not a)      # False\n",
        "print(\"not b:\", not b)      # True\n"
      ],
      "metadata": {
        "colab": {
          "base_uri": "https://localhost:8080/"
        },
        "id": "w1dKzIVA3rMw",
        "outputId": "280de972-ee1f-4d20-c684-b04981c7c27f"
      },
      "execution_count": 18,
      "outputs": [
        {
          "output_type": "stream",
          "name": "stdout",
          "text": [
            "a and b: False\n",
            "a or b: True\n",
            "not a: False\n",
            "not b: True\n"
          ]
        }
      ]
    },
    {
      "cell_type": "code",
      "source": [
        "#9. Write a Python program to convert user input from string to integer, float, and boolean types.\n",
        "\n",
        "a = input(\"Enter a String: \")\n",
        "\n",
        "int_a = int(a)\n",
        "float_a = float(a)\n",
        "bool_a = bool(a)\n",
        "\n",
        "print(\"Integer:\", int_a)\n",
        "print(\"Float:\", float_a)\n",
        "print(\"Boolean:\", bool_a)"
      ],
      "metadata": {
        "colab": {
          "base_uri": "https://localhost:8080/"
        },
        "id": "TY0JKPvd4GmV",
        "outputId": "6fa7151d-1718-4929-f090-dea2103e2050"
      },
      "execution_count": 19,
      "outputs": [
        {
          "output_type": "stream",
          "name": "stdout",
          "text": [
            "Enter a String: 10\n",
            "Integer: 10\n",
            "Float: 10.0\n",
            "Boolean: True\n"
          ]
        }
      ]
    },
    {
      "cell_type": "code",
      "source": [
        "#10. Write code to demonstrate type casting with list elements\n",
        "\n",
        "str_lst = [\"10\",\"20\",\"30\"]\n",
        "int_lst = [int(str_lst[0]),int(str_lst[1]),int(str_lst[2])]\n",
        "print(int_lst)"
      ],
      "metadata": {
        "colab": {
          "base_uri": "https://localhost:8080/"
        },
        "id": "sh8Psx4048Cj",
        "outputId": "3680893e-1b1c-42a0-8d51-bd01da381211"
      },
      "execution_count": 20,
      "outputs": [
        {
          "output_type": "stream",
          "name": "stdout",
          "text": [
            "[10, 20, 30]\n"
          ]
        }
      ]
    },
    {
      "cell_type": "code",
      "source": [
        "#11.Write a program that checks if a number is positive, negative, or zero.\n",
        "\n",
        "input1 = input(\"Enter a number: \")\n",
        "input1 = int(input1)\n",
        "\n",
        "if input1 > 0:\n",
        "  print(\"number is positive\")\n",
        "elif input1 <0:\n",
        "  print(\"number is negativr\")\n",
        "else:\n",
        "  print(\"number is zero\")"
      ],
      "metadata": {
        "id": "ExRykP595x6D",
        "colab": {
          "base_uri": "https://localhost:8080/"
        },
        "outputId": "a224ff0d-031d-4d8c-84ef-d8fc280eca06"
      },
      "execution_count": 22,
      "outputs": [
        {
          "output_type": "stream",
          "name": "stdout",
          "text": [
            "Enter a number: 0\n",
            "number is zero\n"
          ]
        }
      ]
    },
    {
      "cell_type": "code",
      "source": [
        "#12,Write a for loop to print numbers from 1 to 10.\n",
        "for i in range(1,11):\n",
        "  print(i)"
      ],
      "metadata": {
        "colab": {
          "base_uri": "https://localhost:8080/"
        },
        "id": "TFbHnXmp7uWq",
        "outputId": "1410b841-9ea1-4cf5-bd9f-906e5034a15e"
      },
      "execution_count": 23,
      "outputs": [
        {
          "output_type": "stream",
          "name": "stdout",
          "text": [
            "1\n",
            "2\n",
            "3\n",
            "4\n",
            "5\n",
            "6\n",
            "7\n",
            "8\n",
            "9\n",
            "10\n"
          ]
        }
      ]
    },
    {
      "cell_type": "code",
      "source": [
        "#13. Write a Python program to find the sum of all even numbers between 1 and 50\n",
        "\n",
        "result = 0\n",
        "for i in range(1,51):\n",
        "  if i % 2 == 0:\n",
        "    result += i\n",
        "print(result)"
      ],
      "metadata": {
        "colab": {
          "base_uri": "https://localhost:8080/"
        },
        "id": "i7aJnkXZ8Ff5",
        "outputId": "f6dafcc6-f677-4201-9e96-425f9ffb3c7f"
      },
      "execution_count": 24,
      "outputs": [
        {
          "output_type": "stream",
          "name": "stdout",
          "text": [
            "650\n"
          ]
        }
      ]
    },
    {
      "cell_type": "code",
      "source": [
        "#14. Write a program to reverse a string using a while loop.\n",
        "\n",
        "string1 = input(\"enter a string: \")\n",
        "slen = len(string1)\n",
        "result = \"\"\n",
        "while slen !=0:\n",
        "  result = result + string1[slen-1]\n",
        "  slen -=1\n",
        "print(result)"
      ],
      "metadata": {
        "colab": {
          "base_uri": "https://localhost:8080/"
        },
        "id": "UgFld1rJMP8m",
        "outputId": "ea42d29f-6464-4cc9-cd01-c89e26ddce59"
      },
      "execution_count": 25,
      "outputs": [
        {
          "output_type": "stream",
          "name": "stdout",
          "text": [
            "enter a string: hi\n",
            "ih\n"
          ]
        }
      ]
    },
    {
      "cell_type": "code",
      "source": [
        "#15. Write a Python program to calculate the factorial of a number provided by the user using a while loop.\n",
        "\n",
        "num = int(input(\"Enter the number: \"))\n",
        "factorial = 1\n",
        "x = num\n",
        "while x > 0:\n",
        "  factorial *= x\n",
        "  x-=1\n",
        "print(factorial)"
      ],
      "metadata": {
        "colab": {
          "base_uri": "https://localhost:8080/"
        },
        "id": "T4MXm-3GNW7q",
        "outputId": "fbb61620-07ed-4334-ed30-531616ea162d"
      },
      "execution_count": 26,
      "outputs": [
        {
          "output_type": "stream",
          "name": "stdout",
          "text": [
            "Enter the number: 5\n",
            "120\n"
          ]
        }
      ]
    }
  ]
}